{
 "cells": [
  {
   "cell_type": "code",
   "execution_count": 1,
   "id": "10831f8f",
   "metadata": {
    "execution": {
     "iopub.execute_input": "2024-01-29T04:14:30.310086Z",
     "iopub.status.busy": "2024-01-29T04:14:30.309748Z",
     "iopub.status.idle": "2024-01-29T04:14:32.020494Z",
     "shell.execute_reply": "2024-01-29T04:14:32.019571Z"
    },
    "papermill": {
     "duration": 1.719333,
     "end_time": "2024-01-29T04:14:32.022713",
     "exception": false,
     "start_time": "2024-01-29T04:14:30.303380",
     "status": "completed"
    },
    "tags": []
   },
   "outputs": [],
   "source": [
    "import pandas as pd\n",
    "trending_youtube=pd.read_csv(r'/kaggle/input/youtube-new/USvideos.csv')"
   ]
  },
  {
   "cell_type": "markdown",
   "id": "511cf9f7",
   "metadata": {
    "papermill": {
     "duration": 0.003298,
     "end_time": "2024-01-29T04:14:32.030788",
     "exception": false,
     "start_time": "2024-01-29T04:14:32.027490",
     "status": "completed"
    },
    "tags": []
   },
   "source": [
    "## Step 1: Exploratory data analysis"
   ]
  },
  {
   "cell_type": "code",
   "execution_count": 2,
   "id": "34981ac7",
   "metadata": {
    "execution": {
     "iopub.execute_input": "2024-01-29T04:14:32.039958Z",
     "iopub.status.busy": "2024-01-29T04:14:32.039605Z",
     "iopub.status.idle": "2024-01-29T04:14:32.067973Z",
     "shell.execute_reply": "2024-01-29T04:14:32.066920Z"
    },
    "papermill": {
     "duration": 0.036108,
     "end_time": "2024-01-29T04:14:32.070531",
     "exception": false,
     "start_time": "2024-01-29T04:14:32.034423",
     "status": "completed"
    },
    "tags": []
   },
   "outputs": [
    {
     "data": {
      "text/html": [
       "<div>\n",
       "<style scoped>\n",
       "    .dataframe tbody tr th:only-of-type {\n",
       "        vertical-align: middle;\n",
       "    }\n",
       "\n",
       "    .dataframe tbody tr th {\n",
       "        vertical-align: top;\n",
       "    }\n",
       "\n",
       "    .dataframe thead th {\n",
       "        text-align: right;\n",
       "    }\n",
       "</style>\n",
       "<table border=\"1\" class=\"dataframe\">\n",
       "  <thead>\n",
       "    <tr style=\"text-align: right;\">\n",
       "      <th></th>\n",
       "      <th>video_id</th>\n",
       "      <th>trending_date</th>\n",
       "      <th>title</th>\n",
       "      <th>channel_title</th>\n",
       "      <th>category_id</th>\n",
       "      <th>publish_time</th>\n",
       "      <th>tags</th>\n",
       "      <th>views</th>\n",
       "      <th>likes</th>\n",
       "      <th>dislikes</th>\n",
       "      <th>comment_count</th>\n",
       "      <th>thumbnail_link</th>\n",
       "      <th>comments_disabled</th>\n",
       "      <th>ratings_disabled</th>\n",
       "      <th>video_error_or_removed</th>\n",
       "      <th>description</th>\n",
       "    </tr>\n",
       "  </thead>\n",
       "  <tbody>\n",
       "    <tr>\n",
       "      <th>0</th>\n",
       "      <td>2kyS6SvSYSE</td>\n",
       "      <td>17.14.11</td>\n",
       "      <td>WE WANT TO TALK ABOUT OUR MARRIAGE</td>\n",
       "      <td>CaseyNeistat</td>\n",
       "      <td>22</td>\n",
       "      <td>2017-11-13T17:13:01.000Z</td>\n",
       "      <td>SHANtell martin</td>\n",
       "      <td>748374</td>\n",
       "      <td>57527</td>\n",
       "      <td>2966</td>\n",
       "      <td>15954</td>\n",
       "      <td>https://i.ytimg.com/vi/2kyS6SvSYSE/default.jpg</td>\n",
       "      <td>False</td>\n",
       "      <td>False</td>\n",
       "      <td>False</td>\n",
       "      <td>SHANTELL'S CHANNEL - https://www.youtube.com/s...</td>\n",
       "    </tr>\n",
       "    <tr>\n",
       "      <th>1</th>\n",
       "      <td>1ZAPwfrtAFY</td>\n",
       "      <td>17.14.11</td>\n",
       "      <td>The Trump Presidency: Last Week Tonight with J...</td>\n",
       "      <td>LastWeekTonight</td>\n",
       "      <td>24</td>\n",
       "      <td>2017-11-13T07:30:00.000Z</td>\n",
       "      <td>last week tonight trump presidency|\"last week ...</td>\n",
       "      <td>2418783</td>\n",
       "      <td>97185</td>\n",
       "      <td>6146</td>\n",
       "      <td>12703</td>\n",
       "      <td>https://i.ytimg.com/vi/1ZAPwfrtAFY/default.jpg</td>\n",
       "      <td>False</td>\n",
       "      <td>False</td>\n",
       "      <td>False</td>\n",
       "      <td>One year after the presidential election, John...</td>\n",
       "    </tr>\n",
       "    <tr>\n",
       "      <th>2</th>\n",
       "      <td>5qpjK5DgCt4</td>\n",
       "      <td>17.14.11</td>\n",
       "      <td>Racist Superman | Rudy Mancuso, King Bach &amp; Le...</td>\n",
       "      <td>Rudy Mancuso</td>\n",
       "      <td>23</td>\n",
       "      <td>2017-11-12T19:05:24.000Z</td>\n",
       "      <td>racist superman|\"rudy\"|\"mancuso\"|\"king\"|\"bach\"...</td>\n",
       "      <td>3191434</td>\n",
       "      <td>146033</td>\n",
       "      <td>5339</td>\n",
       "      <td>8181</td>\n",
       "      <td>https://i.ytimg.com/vi/5qpjK5DgCt4/default.jpg</td>\n",
       "      <td>False</td>\n",
       "      <td>False</td>\n",
       "      <td>False</td>\n",
       "      <td>WATCH MY PREVIOUS VIDEO ▶ \\n\\nSUBSCRIBE ► http...</td>\n",
       "    </tr>\n",
       "    <tr>\n",
       "      <th>3</th>\n",
       "      <td>puqaWrEC7tY</td>\n",
       "      <td>17.14.11</td>\n",
       "      <td>Nickelback Lyrics: Real or Fake?</td>\n",
       "      <td>Good Mythical Morning</td>\n",
       "      <td>24</td>\n",
       "      <td>2017-11-13T11:00:04.000Z</td>\n",
       "      <td>rhett and link|\"gmm\"|\"good mythical morning\"|\"...</td>\n",
       "      <td>343168</td>\n",
       "      <td>10172</td>\n",
       "      <td>666</td>\n",
       "      <td>2146</td>\n",
       "      <td>https://i.ytimg.com/vi/puqaWrEC7tY/default.jpg</td>\n",
       "      <td>False</td>\n",
       "      <td>False</td>\n",
       "      <td>False</td>\n",
       "      <td>Today we find out if Link is a Nickelback amat...</td>\n",
       "    </tr>\n",
       "    <tr>\n",
       "      <th>4</th>\n",
       "      <td>d380meD0W0M</td>\n",
       "      <td>17.14.11</td>\n",
       "      <td>I Dare You: GOING BALD!?</td>\n",
       "      <td>nigahiga</td>\n",
       "      <td>24</td>\n",
       "      <td>2017-11-12T18:01:41.000Z</td>\n",
       "      <td>ryan|\"higa\"|\"higatv\"|\"nigahiga\"|\"i dare you\"|\"...</td>\n",
       "      <td>2095731</td>\n",
       "      <td>132235</td>\n",
       "      <td>1989</td>\n",
       "      <td>17518</td>\n",
       "      <td>https://i.ytimg.com/vi/d380meD0W0M/default.jpg</td>\n",
       "      <td>False</td>\n",
       "      <td>False</td>\n",
       "      <td>False</td>\n",
       "      <td>I know it's been a while since we did this sho...</td>\n",
       "    </tr>\n",
       "  </tbody>\n",
       "</table>\n",
       "</div>"
      ],
      "text/plain": [
       "      video_id trending_date  \\\n",
       "0  2kyS6SvSYSE      17.14.11   \n",
       "1  1ZAPwfrtAFY      17.14.11   \n",
       "2  5qpjK5DgCt4      17.14.11   \n",
       "3  puqaWrEC7tY      17.14.11   \n",
       "4  d380meD0W0M      17.14.11   \n",
       "\n",
       "                                               title          channel_title  \\\n",
       "0                 WE WANT TO TALK ABOUT OUR MARRIAGE           CaseyNeistat   \n",
       "1  The Trump Presidency: Last Week Tonight with J...        LastWeekTonight   \n",
       "2  Racist Superman | Rudy Mancuso, King Bach & Le...           Rudy Mancuso   \n",
       "3                   Nickelback Lyrics: Real or Fake?  Good Mythical Morning   \n",
       "4                           I Dare You: GOING BALD!?               nigahiga   \n",
       "\n",
       "   category_id              publish_time  \\\n",
       "0           22  2017-11-13T17:13:01.000Z   \n",
       "1           24  2017-11-13T07:30:00.000Z   \n",
       "2           23  2017-11-12T19:05:24.000Z   \n",
       "3           24  2017-11-13T11:00:04.000Z   \n",
       "4           24  2017-11-12T18:01:41.000Z   \n",
       "\n",
       "                                                tags    views   likes  \\\n",
       "0                                    SHANtell martin   748374   57527   \n",
       "1  last week tonight trump presidency|\"last week ...  2418783   97185   \n",
       "2  racist superman|\"rudy\"|\"mancuso\"|\"king\"|\"bach\"...  3191434  146033   \n",
       "3  rhett and link|\"gmm\"|\"good mythical morning\"|\"...   343168   10172   \n",
       "4  ryan|\"higa\"|\"higatv\"|\"nigahiga\"|\"i dare you\"|\"...  2095731  132235   \n",
       "\n",
       "   dislikes  comment_count                                  thumbnail_link  \\\n",
       "0      2966          15954  https://i.ytimg.com/vi/2kyS6SvSYSE/default.jpg   \n",
       "1      6146          12703  https://i.ytimg.com/vi/1ZAPwfrtAFY/default.jpg   \n",
       "2      5339           8181  https://i.ytimg.com/vi/5qpjK5DgCt4/default.jpg   \n",
       "3       666           2146  https://i.ytimg.com/vi/puqaWrEC7tY/default.jpg   \n",
       "4      1989          17518  https://i.ytimg.com/vi/d380meD0W0M/default.jpg   \n",
       "\n",
       "   comments_disabled  ratings_disabled  video_error_or_removed  \\\n",
       "0              False             False                   False   \n",
       "1              False             False                   False   \n",
       "2              False             False                   False   \n",
       "3              False             False                   False   \n",
       "4              False             False                   False   \n",
       "\n",
       "                                         description  \n",
       "0  SHANTELL'S CHANNEL - https://www.youtube.com/s...  \n",
       "1  One year after the presidential election, John...  \n",
       "2  WATCH MY PREVIOUS VIDEO ▶ \\n\\nSUBSCRIBE ► http...  \n",
       "3  Today we find out if Link is a Nickelback amat...  \n",
       "4  I know it's been a while since we did this sho...  "
      ]
     },
     "execution_count": 2,
     "metadata": {},
     "output_type": "execute_result"
    }
   ],
   "source": [
    "trending_youtube.head()"
   ]
  },
  {
   "cell_type": "code",
   "execution_count": 3,
   "id": "54b6201f",
   "metadata": {
    "execution": {
     "iopub.execute_input": "2024-01-29T04:14:32.080479Z",
     "iopub.status.busy": "2024-01-29T04:14:32.080126Z",
     "iopub.status.idle": "2024-01-29T04:14:32.087542Z",
     "shell.execute_reply": "2024-01-29T04:14:32.086376Z"
    },
    "papermill": {
     "duration": 0.014986,
     "end_time": "2024-01-29T04:14:32.089637",
     "exception": false,
     "start_time": "2024-01-29T04:14:32.074651",
     "status": "completed"
    },
    "tags": []
   },
   "outputs": [
    {
     "data": {
      "text/plain": [
       "(40949, 16)"
      ]
     },
     "execution_count": 3,
     "metadata": {},
     "output_type": "execute_result"
    }
   ],
   "source": [
    "trending_youtube.shape"
   ]
  },
  {
   "cell_type": "code",
   "execution_count": 4,
   "id": "ee8c8fda",
   "metadata": {
    "execution": {
     "iopub.execute_input": "2024-01-29T04:14:32.101007Z",
     "iopub.status.busy": "2024-01-29T04:14:32.100650Z",
     "iopub.status.idle": "2024-01-29T04:14:32.141691Z",
     "shell.execute_reply": "2024-01-29T04:14:32.140154Z"
    },
    "papermill": {
     "duration": 0.050075,
     "end_time": "2024-01-29T04:14:32.144550",
     "exception": false,
     "start_time": "2024-01-29T04:14:32.094475",
     "status": "completed"
    },
    "tags": []
   },
   "outputs": [
    {
     "name": "stdout",
     "output_type": "stream",
     "text": [
      "<class 'pandas.core.frame.DataFrame'>\n",
      "RangeIndex: 40949 entries, 0 to 40948\n",
      "Data columns (total 16 columns):\n",
      " #   Column                  Non-Null Count  Dtype \n",
      "---  ------                  --------------  ----- \n",
      " 0   video_id                40949 non-null  object\n",
      " 1   trending_date           40949 non-null  object\n",
      " 2   title                   40949 non-null  object\n",
      " 3   channel_title           40949 non-null  object\n",
      " 4   category_id             40949 non-null  int64 \n",
      " 5   publish_time            40949 non-null  object\n",
      " 6   tags                    40949 non-null  object\n",
      " 7   views                   40949 non-null  int64 \n",
      " 8   likes                   40949 non-null  int64 \n",
      " 9   dislikes                40949 non-null  int64 \n",
      " 10  comment_count           40949 non-null  int64 \n",
      " 11  thumbnail_link          40949 non-null  object\n",
      " 12  comments_disabled       40949 non-null  bool  \n",
      " 13  ratings_disabled        40949 non-null  bool  \n",
      " 14  video_error_or_removed  40949 non-null  bool  \n",
      " 15  description             40379 non-null  object\n",
      "dtypes: bool(3), int64(5), object(8)\n",
      "memory usage: 4.2+ MB\n"
     ]
    }
   ],
   "source": [
    "trending_youtube.info()"
   ]
  },
  {
   "cell_type": "code",
   "execution_count": 5,
   "id": "4dc39cd9",
   "metadata": {
    "execution": {
     "iopub.execute_input": "2024-01-29T04:14:32.154824Z",
     "iopub.status.busy": "2024-01-29T04:14:32.154469Z",
     "iopub.status.idle": "2024-01-29T04:14:32.188234Z",
     "shell.execute_reply": "2024-01-29T04:14:32.187182Z"
    },
    "papermill": {
     "duration": 0.041173,
     "end_time": "2024-01-29T04:14:32.190374",
     "exception": false,
     "start_time": "2024-01-29T04:14:32.149201",
     "status": "completed"
    },
    "tags": []
   },
   "outputs": [
    {
     "data": {
      "text/html": [
       "<div>\n",
       "<style scoped>\n",
       "    .dataframe tbody tr th:only-of-type {\n",
       "        vertical-align: middle;\n",
       "    }\n",
       "\n",
       "    .dataframe tbody tr th {\n",
       "        vertical-align: top;\n",
       "    }\n",
       "\n",
       "    .dataframe thead th {\n",
       "        text-align: right;\n",
       "    }\n",
       "</style>\n",
       "<table border=\"1\" class=\"dataframe\">\n",
       "  <thead>\n",
       "    <tr style=\"text-align: right;\">\n",
       "      <th></th>\n",
       "      <th>category_id</th>\n",
       "      <th>views</th>\n",
       "      <th>likes</th>\n",
       "      <th>dislikes</th>\n",
       "      <th>comment_count</th>\n",
       "    </tr>\n",
       "  </thead>\n",
       "  <tbody>\n",
       "    <tr>\n",
       "      <th>count</th>\n",
       "      <td>40949.000000</td>\n",
       "      <td>4.094900e+04</td>\n",
       "      <td>4.094900e+04</td>\n",
       "      <td>4.094900e+04</td>\n",
       "      <td>4.094900e+04</td>\n",
       "    </tr>\n",
       "    <tr>\n",
       "      <th>mean</th>\n",
       "      <td>19.972429</td>\n",
       "      <td>2.360785e+06</td>\n",
       "      <td>7.426670e+04</td>\n",
       "      <td>3.711401e+03</td>\n",
       "      <td>8.446804e+03</td>\n",
       "    </tr>\n",
       "    <tr>\n",
       "      <th>std</th>\n",
       "      <td>7.568327</td>\n",
       "      <td>7.394114e+06</td>\n",
       "      <td>2.288853e+05</td>\n",
       "      <td>2.902971e+04</td>\n",
       "      <td>3.743049e+04</td>\n",
       "    </tr>\n",
       "    <tr>\n",
       "      <th>min</th>\n",
       "      <td>1.000000</td>\n",
       "      <td>5.490000e+02</td>\n",
       "      <td>0.000000e+00</td>\n",
       "      <td>0.000000e+00</td>\n",
       "      <td>0.000000e+00</td>\n",
       "    </tr>\n",
       "    <tr>\n",
       "      <th>25%</th>\n",
       "      <td>17.000000</td>\n",
       "      <td>2.423290e+05</td>\n",
       "      <td>5.424000e+03</td>\n",
       "      <td>2.020000e+02</td>\n",
       "      <td>6.140000e+02</td>\n",
       "    </tr>\n",
       "    <tr>\n",
       "      <th>50%</th>\n",
       "      <td>24.000000</td>\n",
       "      <td>6.818610e+05</td>\n",
       "      <td>1.809100e+04</td>\n",
       "      <td>6.310000e+02</td>\n",
       "      <td>1.856000e+03</td>\n",
       "    </tr>\n",
       "    <tr>\n",
       "      <th>75%</th>\n",
       "      <td>25.000000</td>\n",
       "      <td>1.823157e+06</td>\n",
       "      <td>5.541700e+04</td>\n",
       "      <td>1.938000e+03</td>\n",
       "      <td>5.755000e+03</td>\n",
       "    </tr>\n",
       "    <tr>\n",
       "      <th>max</th>\n",
       "      <td>43.000000</td>\n",
       "      <td>2.252119e+08</td>\n",
       "      <td>5.613827e+06</td>\n",
       "      <td>1.674420e+06</td>\n",
       "      <td>1.361580e+06</td>\n",
       "    </tr>\n",
       "  </tbody>\n",
       "</table>\n",
       "</div>"
      ],
      "text/plain": [
       "        category_id         views         likes      dislikes  comment_count\n",
       "count  40949.000000  4.094900e+04  4.094900e+04  4.094900e+04   4.094900e+04\n",
       "mean      19.972429  2.360785e+06  7.426670e+04  3.711401e+03   8.446804e+03\n",
       "std        7.568327  7.394114e+06  2.288853e+05  2.902971e+04   3.743049e+04\n",
       "min        1.000000  5.490000e+02  0.000000e+00  0.000000e+00   0.000000e+00\n",
       "25%       17.000000  2.423290e+05  5.424000e+03  2.020000e+02   6.140000e+02\n",
       "50%       24.000000  6.818610e+05  1.809100e+04  6.310000e+02   1.856000e+03\n",
       "75%       25.000000  1.823157e+06  5.541700e+04  1.938000e+03   5.755000e+03\n",
       "max       43.000000  2.252119e+08  5.613827e+06  1.674420e+06   1.361580e+06"
      ]
     },
     "execution_count": 5,
     "metadata": {},
     "output_type": "execute_result"
    }
   ],
   "source": [
    "trending_youtube.describe()"
   ]
  },
  {
   "cell_type": "markdown",
   "id": "acf57bc7",
   "metadata": {
    "papermill": {
     "duration": 0.003972,
     "end_time": "2024-01-29T04:14:32.198766",
     "exception": false,
     "start_time": "2024-01-29T04:14:32.194794",
     "status": "completed"
    },
    "tags": []
   },
   "source": [
    "# Step 2: Data tidying in Pandas"
   ]
  },
  {
   "cell_type": "markdown",
   "id": "ab8f6d33",
   "metadata": {
    "papermill": {
     "duration": 0.004063,
     "end_time": "2024-01-29T04:14:32.207134",
     "exception": false,
     "start_time": "2024-01-29T04:14:32.203071",
     "status": "completed"
    },
    "tags": []
   },
   "source": [
    "# Data type constraints\n"
   ]
  },
  {
   "cell_type": "markdown",
   "id": "08174642",
   "metadata": {
    "papermill": {
     "duration": 0.003995,
     "end_time": "2024-01-29T04:14:32.215352",
     "exception": false,
     "start_time": "2024-01-29T04:14:32.211357",
     "status": "completed"
    },
    "tags": []
   },
   "source": [
    "**transforming trending_date column from string to datetime"
   ]
  },
  {
   "cell_type": "code",
   "execution_count": 6,
   "id": "df8b06fa",
   "metadata": {
    "execution": {
     "iopub.execute_input": "2024-01-29T04:14:32.225466Z",
     "iopub.status.busy": "2024-01-29T04:14:32.225129Z",
     "iopub.status.idle": "2024-01-29T04:14:32.235900Z",
     "shell.execute_reply": "2024-01-29T04:14:32.234620Z"
    },
    "papermill": {
     "duration": 0.01886,
     "end_time": "2024-01-29T04:14:32.238583",
     "exception": false,
     "start_time": "2024-01-29T04:14:32.219723",
     "status": "completed"
    },
    "tags": []
   },
   "outputs": [
    {
     "data": {
      "text/plain": [
       "0        17.14.11\n",
       "1        17.14.11\n",
       "2        17.14.11\n",
       "3        17.14.11\n",
       "4        17.14.11\n",
       "           ...   \n",
       "40944    18.14.06\n",
       "40945    18.14.06\n",
       "40946    18.14.06\n",
       "40947    18.14.06\n",
       "40948    18.14.06\n",
       "Name: trending_date, Length: 40949, dtype: object"
      ]
     },
     "execution_count": 6,
     "metadata": {},
     "output_type": "execute_result"
    }
   ],
   "source": [
    "trending_youtube['trending_date']"
   ]
  },
  {
   "cell_type": "code",
   "execution_count": 7,
   "id": "5d10e11a",
   "metadata": {
    "execution": {
     "iopub.execute_input": "2024-01-29T04:14:32.249746Z",
     "iopub.status.busy": "2024-01-29T04:14:32.249370Z",
     "iopub.status.idle": "2024-01-29T04:14:32.253101Z",
     "shell.execute_reply": "2024-01-29T04:14:32.252450Z"
    },
    "papermill": {
     "duration": 0.011472,
     "end_time": "2024-01-29T04:14:32.255013",
     "exception": false,
     "start_time": "2024-01-29T04:14:32.243541",
     "status": "completed"
    },
    "tags": []
   },
   "outputs": [],
   "source": [
    "\n",
    "#but won't work\n",
    "#trending_youtube['trending_date']=pd.to_datetime(trending_youtube['trending_date'])"
   ]
  },
  {
   "cell_type": "code",
   "execution_count": 8,
   "id": "5a517261",
   "metadata": {
    "execution": {
     "iopub.execute_input": "2024-01-29T04:14:32.266355Z",
     "iopub.status.busy": "2024-01-29T04:14:32.265700Z",
     "iopub.status.idle": "2024-01-29T04:14:32.281968Z",
     "shell.execute_reply": "2024-01-29T04:14:32.280502Z"
    },
    "papermill": {
     "duration": 0.024894,
     "end_time": "2024-01-29T04:14:32.284723",
     "exception": false,
     "start_time": "2024-01-29T04:14:32.259829",
     "status": "completed"
    },
    "tags": []
   },
   "outputs": [],
   "source": [
    "#will work\n",
    "trending_youtube['trending_date'] = pd.to_datetime(trending_youtube['trending_date'], errors='coerce', format='%y.%d.%m')"
   ]
  },
  {
   "cell_type": "code",
   "execution_count": 9,
   "id": "1363fe18",
   "metadata": {
    "execution": {
     "iopub.execute_input": "2024-01-29T04:14:32.295661Z",
     "iopub.status.busy": "2024-01-29T04:14:32.295250Z",
     "iopub.status.idle": "2024-01-29T04:14:32.304603Z",
     "shell.execute_reply": "2024-01-29T04:14:32.303643Z"
    },
    "papermill": {
     "duration": 0.017105,
     "end_time": "2024-01-29T04:14:32.306590",
     "exception": false,
     "start_time": "2024-01-29T04:14:32.289485",
     "status": "completed"
    },
    "tags": []
   },
   "outputs": [
    {
     "data": {
      "text/plain": [
       "0       2017-11-14\n",
       "1       2017-11-14\n",
       "2       2017-11-14\n",
       "3       2017-11-14\n",
       "4       2017-11-14\n",
       "           ...    \n",
       "40944   2018-06-14\n",
       "40945   2018-06-14\n",
       "40946   2018-06-14\n",
       "40947   2018-06-14\n",
       "40948   2018-06-14\n",
       "Name: trending_date, Length: 40949, dtype: datetime64[ns]"
      ]
     },
     "execution_count": 9,
     "metadata": {},
     "output_type": "execute_result"
    }
   ],
   "source": [
    "trending_youtube['trending_date']"
   ]
  },
  {
   "cell_type": "code",
   "execution_count": 10,
   "id": "4951187f",
   "metadata": {
    "execution": {
     "iopub.execute_input": "2024-01-29T04:14:32.318052Z",
     "iopub.status.busy": "2024-01-29T04:14:32.317550Z",
     "iopub.status.idle": "2024-01-29T04:14:32.322165Z",
     "shell.execute_reply": "2024-01-29T04:14:32.321033Z"
    },
    "papermill": {
     "duration": 0.012909,
     "end_time": "2024-01-29T04:14:32.324461",
     "exception": false,
     "start_time": "2024-01-29T04:14:32.311552",
     "status": "completed"
    },
    "tags": []
   },
   "outputs": [],
   "source": [
    "#making sure of the conversion\n",
    "assert trending_youtube['trending_date'].dtype=='datetime64[ns]'"
   ]
  },
  {
   "cell_type": "code",
   "execution_count": 11,
   "id": "92c8d858",
   "metadata": {
    "execution": {
     "iopub.execute_input": "2024-01-29T04:14:32.335858Z",
     "iopub.status.busy": "2024-01-29T04:14:32.335314Z",
     "iopub.status.idle": "2024-01-29T04:14:32.344735Z",
     "shell.execute_reply": "2024-01-29T04:14:32.343565Z"
    },
    "papermill": {
     "duration": 0.017743,
     "end_time": "2024-01-29T04:14:32.347088",
     "exception": false,
     "start_time": "2024-01-29T04:14:32.329345",
     "status": "completed"
    },
    "tags": []
   },
   "outputs": [
    {
     "data": {
      "text/plain": [
       "<DatetimeArray>\n",
       "['2017-11-14 00:00:00', '2017-11-15 00:00:00', '2017-11-16 00:00:00',\n",
       " '2017-11-17 00:00:00', '2017-11-18 00:00:00', '2017-11-19 00:00:00',\n",
       " '2017-11-20 00:00:00', '2017-11-21 00:00:00', '2017-11-22 00:00:00',\n",
       " '2017-11-23 00:00:00',\n",
       " ...\n",
       " '2018-06-05 00:00:00', '2018-06-06 00:00:00', '2018-06-07 00:00:00',\n",
       " '2018-06-08 00:00:00', '2018-06-09 00:00:00', '2018-06-10 00:00:00',\n",
       " '2018-06-11 00:00:00', '2018-06-12 00:00:00', '2018-06-13 00:00:00',\n",
       " '2018-06-14 00:00:00']\n",
       "Length: 205, dtype: datetime64[ns]"
      ]
     },
     "execution_count": 11,
     "metadata": {},
     "output_type": "execute_result"
    }
   ],
   "source": [
    "trending_youtube['trending_date'].unique()"
   ]
  },
  {
   "cell_type": "code",
   "execution_count": 12,
   "id": "c921fa28",
   "metadata": {
    "execution": {
     "iopub.execute_input": "2024-01-29T04:14:32.358386Z",
     "iopub.status.busy": "2024-01-29T04:14:32.358067Z",
     "iopub.status.idle": "2024-01-29T04:14:32.362820Z",
     "shell.execute_reply": "2024-01-29T04:14:32.361825Z"
    },
    "papermill": {
     "duration": 0.01313,
     "end_time": "2024-01-29T04:14:32.365137",
     "exception": false,
     "start_time": "2024-01-29T04:14:32.352007",
     "status": "completed"
    },
    "tags": []
   },
   "outputs": [],
   "source": [
    "#checking if there is Nat values in the 'trending_date ' column\n",
    "assert trending_youtube['trending_date'].isnull().any()==False"
   ]
  },
  {
   "cell_type": "code",
   "execution_count": null,
   "id": "41e631b4",
   "metadata": {
    "papermill": {
     "duration": 0.004326,
     "end_time": "2024-01-29T04:14:32.374434",
     "exception": false,
     "start_time": "2024-01-29T04:14:32.370108",
     "status": "completed"
    },
    "tags": []
   },
   "outputs": [],
   "source": []
  }
 ],
 "metadata": {
  "kaggle": {
   "accelerator": "none",
   "dataSources": [
    {
     "datasetId": 4549,
     "sourceId": 466349,
     "sourceType": "datasetVersion"
    }
   ],
   "dockerImageVersionId": 30635,
   "isGpuEnabled": false,
   "isInternetEnabled": false,
   "language": "python",
   "sourceType": "notebook"
  },
  "kernelspec": {
   "display_name": "Python 3",
   "language": "python",
   "name": "python3"
  },
  "language_info": {
   "codemirror_mode": {
    "name": "ipython",
    "version": 3
   },
   "file_extension": ".py",
   "mimetype": "text/x-python",
   "name": "python",
   "nbconvert_exporter": "python",
   "pygments_lexer": "ipython3",
   "version": "3.10.12"
  },
  "papermill": {
   "default_parameters": {},
   "duration": 4.813053,
   "end_time": "2024-01-29T04:14:32.498103",
   "environment_variables": {},
   "exception": null,
   "input_path": "__notebook__.ipynb",
   "output_path": "__notebook__.ipynb",
   "parameters": {},
   "start_time": "2024-01-29T04:14:27.685050",
   "version": "2.4.0"
  }
 },
 "nbformat": 4,
 "nbformat_minor": 5
}
